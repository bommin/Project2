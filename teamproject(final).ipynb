{
 "cells": [
  {
   "cell_type": "code",
   "execution_count": 3,
   "id": "4e166d7e",
   "metadata": {},
   "outputs": [
    {
     "name": "stdout",
     "output_type": "stream",
     "text": [
      "Collecting py-hanspell\n",
      "  Using cached py-hanspell-1.1.tar.gz (3.0 kB)\n",
      "  Using cached py-hanspell-1.0.tar.gz (3.0 kB)\n"
     ]
    },
    {
     "name": "stderr",
     "output_type": "stream",
     "text": [
      "    ERROR: Command errored out with exit status 1:\n",
      "     command: 'C:\\Users\\user\\anaconda3\\python.exe' -c 'import io, os, sys, setuptools, tokenize; sys.argv[0] = '\"'\"'C:\\\\Users\\\\user\\\\AppData\\\\Local\\\\Temp\\\\pip-install-mrb9a1w7\\\\py-hanspell_5f5b3a0a55294b1fb58c180972308904\\\\setup.py'\"'\"'; __file__='\"'\"'C:\\\\Users\\\\user\\\\AppData\\\\Local\\\\Temp\\\\pip-install-mrb9a1w7\\\\py-hanspell_5f5b3a0a55294b1fb58c180972308904\\\\setup.py'\"'\"';f = getattr(tokenize, '\"'\"'open'\"'\"', open)(__file__) if os.path.exists(__file__) else io.StringIO('\"'\"'from setuptools import setup; setup()'\"'\"');code = f.read().replace('\"'\"'\\r\\n'\"'\"', '\"'\"'\\n'\"'\"');f.close();exec(compile(code, __file__, '\"'\"'exec'\"'\"'))' egg_info --egg-base 'C:\\Users\\user\\AppData\\Local\\Temp\\pip-pip-egg-info-9mg8hrx7'\n",
      "         cwd: C:\\Users\\user\\AppData\\Local\\Temp\\pip-install-mrb9a1w7\\py-hanspell_5f5b3a0a55294b1fb58c180972308904\\\n",
      "    Complete output (5 lines):\n",
      "    Traceback (most recent call last):\n",
      "      File \"<string>\", line 1, in <module>\n",
      "      File \"C:\\Users\\user\\AppData\\Local\\Temp\\pip-install-mrb9a1w7\\py-hanspell_5f5b3a0a55294b1fb58c180972308904\\setup.py\", line 2, in <module>\n",
      "        from pip.req import parse_requirements\n",
      "    ModuleNotFoundError: No module named 'pip.req'\n",
      "    ----------------------------------------\n",
      "WARNING: Discarding https://files.pythonhosted.org/packages/24/81/baac88868b58eea5b0aab675da7ef0cdd72bee62b080cd50336a76faf57f/py-hanspell-1.1.tar.gz#sha256=e44953f3defb058eabe2e6b4e83a6219c3501de18385ee8c5bfa064b63005e05 (from https://pypi.org/simple/py-hanspell/). Command errored out with exit status 1: python setup.py egg_info Check the logs for full command output.\n",
      "    ERROR: Command errored out with exit status 1:\n",
      "     command: 'C:\\Users\\user\\anaconda3\\python.exe' -c 'import io, os, sys, setuptools, tokenize; sys.argv[0] = '\"'\"'C:\\\\Users\\\\user\\\\AppData\\\\Local\\\\Temp\\\\pip-install-mrb9a1w7\\\\py-hanspell_932d81fdd3ec4b9fb6882d49f0e142a8\\\\setup.py'\"'\"'; __file__='\"'\"'C:\\\\Users\\\\user\\\\AppData\\\\Local\\\\Temp\\\\pip-install-mrb9a1w7\\\\py-hanspell_932d81fdd3ec4b9fb6882d49f0e142a8\\\\setup.py'\"'\"';f = getattr(tokenize, '\"'\"'open'\"'\"', open)(__file__) if os.path.exists(__file__) else io.StringIO('\"'\"'from setuptools import setup; setup()'\"'\"');code = f.read().replace('\"'\"'\\r\\n'\"'\"', '\"'\"'\\n'\"'\"');f.close();exec(compile(code, __file__, '\"'\"'exec'\"'\"'))' egg_info --egg-base 'C:\\Users\\user\\AppData\\Local\\Temp\\pip-pip-egg-info-4p4j_wt1'\n",
      "         cwd: C:\\Users\\user\\AppData\\Local\\Temp\\pip-install-mrb9a1w7\\py-hanspell_932d81fdd3ec4b9fb6882d49f0e142a8\\\n",
      "    Complete output (5 lines):\n",
      "    Traceback (most recent call last):\n",
      "      File \"<string>\", line 1, in <module>\n",
      "      File \"C:\\Users\\user\\AppData\\Local\\Temp\\pip-install-mrb9a1w7\\py-hanspell_932d81fdd3ec4b9fb6882d49f0e142a8\\setup.py\", line 2, in <module>\n",
      "        from pip.req import parse_requirements\n",
      "    ModuleNotFoundError: No module named 'pip.req'\n",
      "    ----------------------------------------\n",
      "WARNING: Discarding https://files.pythonhosted.org/packages/be/4d/bf6a3b891f30fceacce5a83a987a294317ec41ab899b4b5a2b404a0f88d5/py-hanspell-1.0.tar.gz#sha256=e1468423c130f4fbc99de1909dc0509412792ec19c3fbed949f9778170161cf5 (from https://pypi.org/simple/py-hanspell/). Command errored out with exit status 1: python setup.py egg_info Check the logs for full command output.\n",
      "ERROR: Could not find a version that satisfies the requirement py-hanspell (from versions: 1.0, 1.1)\n",
      "ERROR: No matching distribution found for py-hanspell\n"
     ]
    }
   ],
   "source": [
    "!pip install py-hanspell"
   ]
  },
  {
   "cell_type": "code",
   "execution_count": 4,
   "id": "7a208d45-6e64-4229-bf2d-9e30e8f18906",
   "metadata": {
    "tags": []
   },
   "outputs": [
    {
     "ename": "ModuleNotFoundError",
     "evalue": "No module named 'hanspell'",
     "output_type": "error",
     "traceback": [
      "\u001b[1;31m---------------------------------------------------------------------------\u001b[0m",
      "\u001b[1;31mModuleNotFoundError\u001b[0m                       Traceback (most recent call last)",
      "\u001b[1;32m~\\AppData\\Local\\Temp/ipykernel_10736/360665920.py\u001b[0m in \u001b[0;36m<module>\u001b[1;34m\u001b[0m\n\u001b[0;32m      9\u001b[0m \u001b[1;32mimport\u001b[0m \u001b[0mseaborn\u001b[0m \u001b[1;32mas\u001b[0m \u001b[0msns\u001b[0m\u001b[1;33m\u001b[0m\u001b[1;33m\u001b[0m\u001b[0m\n\u001b[0;32m     10\u001b[0m \u001b[1;32mfrom\u001b[0m \u001b[0mcollections\u001b[0m \u001b[1;32mimport\u001b[0m \u001b[0mCounter\u001b[0m\u001b[1;33m\u001b[0m\u001b[1;33m\u001b[0m\u001b[0m\n\u001b[1;32m---> 11\u001b[1;33m \u001b[1;32mfrom\u001b[0m \u001b[0mhanspell\u001b[0m \u001b[1;32mimport\u001b[0m \u001b[0mspell_checker\u001b[0m\u001b[1;33m\u001b[0m\u001b[1;33m\u001b[0m\u001b[0m\n\u001b[0m\u001b[0;32m     12\u001b[0m \u001b[1;33m\u001b[0m\u001b[0m\n\u001b[0;32m     13\u001b[0m \u001b[1;31m#importing libaries required\u001b[0m\u001b[1;33m\u001b[0m\u001b[1;33m\u001b[0m\u001b[0m\n",
      "\u001b[1;31mModuleNotFoundError\u001b[0m: No module named 'hanspell'"
     ]
    }
   ],
   "source": [
    "import warnings\n",
    "# switch off the warnings\n",
    "warnings.filterwarnings(\"ignore\")\n",
    "\n",
    "#importing libaries \n",
    "import pandas as pd\n",
    "import numpy as np\n",
    "import matplotlib.pyplot as plt\n",
    "import seaborn as sns\n",
    "from collections import Counter\n",
    "from hanspell import spell_checker\n",
    "\n",
    "#importing libaries required\n",
    "from keras.preprocessing import sequence\n",
    "from keras.preprocessing.text import Tokenizer\n",
    "from keras.preprocessing.sequence import pad_sequences\n",
    "from keras.layers import Embedding, LSTM, Dropout, Dense\n",
    "from keras.models import Sequential\n",
    "from sklearn.model_selection import train_test_split\n",
    "from tensorflow.keras.utils import to_categorical\n",
    "import tensorflow as tf\n",
    "import matplotlib\n",
    "\n",
    "%matplotlib inline\n",
    "sns.set_style(\"darkgrid\")"
   ]
  },
  {
   "cell_type": "code",
   "execution_count": null,
   "id": "8d830509-ad76-4f62-8d03-17f6f65b3c5b",
   "metadata": {},
   "outputs": [],
   "source": [
    "sms = pd.read_csv('./보이스피싱-최종-ver3.csv', encoding='utf-8')"
   ]
  },
  {
   "cell_type": "code",
   "execution_count": null,
   "id": "9a80f04c-b8ef-4934-98a4-1e293d1f7ece",
   "metadata": {},
   "outputs": [
    {
     "data": {
      "text/html": [
       "<div>\n",
       "<style scoped>\n",
       "    .dataframe tbody tr th:only-of-type {\n",
       "        vertical-align: middle;\n",
       "    }\n",
       "\n",
       "    .dataframe tbody tr th {\n",
       "        vertical-align: top;\n",
       "    }\n",
       "\n",
       "    .dataframe thead th {\n",
       "        text-align: right;\n",
       "    }\n",
       "</style>\n",
       "<table border=\"1\" class=\"dataframe\">\n",
       "  <thead>\n",
       "    <tr style=\"text-align: right;\">\n",
       "      <th></th>\n",
       "      <th>index</th>\n",
       "      <th>문자내용</th>\n",
       "    </tr>\n",
       "  </thead>\n",
       "  <tbody>\n",
       "    <tr>\n",
       "      <th>0</th>\n",
       "      <td>spam</td>\n",
       "      <td>아빠 나 폰 액정 깨져서 A.S 맡기고 임시폰 대리 받아 연락했어 통화 안 되니까 ...</td>\n",
       "    </tr>\n",
       "    <tr>\n",
       "      <th>1</th>\n",
       "      <td>spam</td>\n",
       "      <td>엄마~내 거 폰 화면이 깨져서 수리하러 왔어ㅠㅠ이번호로 카톡 추가하고 톡 줘.</td>\n",
       "    </tr>\n",
       "    <tr>\n",
       "      <th>2</th>\n",
       "      <td>spam</td>\n",
       "      <td>엄마 이 번호로 카톡 추가 하교 톡 줘 임시폰이라 문자하면 안 돼</td>\n",
       "    </tr>\n",
       "    <tr>\n",
       "      <th>3</th>\n",
       "      <td>spam</td>\n",
       "      <td>엄마 나 폰 고장 나서 대리 받은 임시번호라 문자만 가능해 부탁 있어 문자 줘~</td>\n",
       "    </tr>\n",
       "    <tr>\n",
       "      <th>4</th>\n",
       "      <td>spam</td>\n",
       "      <td>[국제 발신] [해외구매] 966,000원 결제 완료 주문하신 물품은 14일 이내 ...</td>\n",
       "    </tr>\n",
       "  </tbody>\n",
       "</table>\n",
       "</div>"
      ],
      "text/plain": [
       "  index                                               문자내용\n",
       "0  spam  아빠 나 폰 액정 깨져서 A.S 맡기고 임시폰 대리 받아 연락했어 통화 안 되니까 ...\n",
       "1  spam        엄마~내 거 폰 화면이 깨져서 수리하러 왔어ㅠㅠ이번호로 카톡 추가하고 톡 줘.\n",
       "2  spam               엄마 이 번호로 카톡 추가 하교 톡 줘 임시폰이라 문자하면 안 돼\n",
       "3  spam       엄마 나 폰 고장 나서 대리 받은 임시번호라 문자만 가능해 부탁 있어 문자 줘~\n",
       "4  spam  [국제 발신] [해외구매] 966,000원 결제 완료 주문하신 물품은 14일 이내 ..."
      ]
     },
     "execution_count": 155,
     "metadata": {},
     "output_type": "execute_result"
    }
   ],
   "source": [
    "sms = sms.iloc[:,[0,1]]\n",
    "sms.columns = [\"index\", \"문자내용\"]\n",
    "sms.head()"
   ]
  },
  {
   "cell_type": "code",
   "execution_count": null,
   "id": "aed783dc-3398-4eed-87f6-090741eed493",
   "metadata": {},
   "outputs": [],
   "source": [
    "sms.dropna(axis=0, inplace = True)"
   ]
  },
  {
   "cell_type": "code",
   "execution_count": null,
   "id": "3d3f66cd-b5c2-4745-b053-9b2151756d68",
   "metadata": {},
   "outputs": [
    {
     "data": {
      "text/plain": [
       "(3804, 2)"
      ]
     },
     "execution_count": 157,
     "metadata": {},
     "output_type": "execute_result"
    }
   ],
   "source": [
    "sms.shape"
   ]
  },
  {
   "cell_type": "code",
   "execution_count": null,
   "id": "6b83bd03-f0cf-4761-9b4a-820fa4db18c6",
   "metadata": {},
   "outputs": [
    {
     "data": {
      "image/png": "[encoded data removed]",
      "text/plain": [
       "<Figure size 432x288 with 1 Axes>"
      ]
     },
     "metadata": {},
     "output_type": "display_data"
    }
   ],
   "source": [
    "count_Class=pd.value_counts(sms[\"index\"], sort= True)\n",
    "count_Class.plot(kind = 'bar',color = [\"green\",\"red\"])\n",
    "plt.title('Bar Plot')\n",
    "plt.show()"
   ]
  },
  {
   "cell_type": "code",
   "execution_count": null,
   "id": "a7db8107-8ec1-43f5-ba67-098aea19262a",
   "metadata": {},
   "outputs": [
    {
     "data": {
      "text/html": [
       "<div>\n",
       "<style scoped>\n",
       "    .dataframe tbody tr th:only-of-type {\n",
       "        vertical-align: middle;\n",
       "    }\n",
       "\n",
       "    .dataframe tbody tr th {\n",
       "        vertical-align: top;\n",
       "    }\n",
       "\n",
       "    .dataframe thead tr th {\n",
       "        text-align: left;\n",
       "    }\n",
       "\n",
       "    .dataframe thead tr:last-of-type th {\n",
       "        text-align: right;\n",
       "    }\n",
       "</style>\n",
       "<table border=\"1\" class=\"dataframe\">\n",
       "  <thead>\n",
       "    <tr>\n",
       "      <th></th>\n",
       "      <th colspan=\"4\" halign=\"left\">문자내용</th>\n",
       "    </tr>\n",
       "    <tr>\n",
       "      <th></th>\n",
       "      <th>count</th>\n",
       "      <th>unique</th>\n",
       "      <th>top</th>\n",
       "      <th>freq</th>\n",
       "    </tr>\n",
       "    <tr>\n",
       "      <th>index</th>\n",
       "      <th></th>\n",
       "      <th></th>\n",
       "      <th></th>\n",
       "      <th></th>\n",
       "    </tr>\n",
       "  </thead>\n",
       "  <tbody>\n",
       "    <tr>\n",
       "      <th>ham</th>\n",
       "      <td>2469</td>\n",
       "      <td>2264</td>\n",
       "      <td>사진</td>\n",
       "      <td>47</td>\n",
       "    </tr>\n",
       "    <tr>\n",
       "      <th>spam</th>\n",
       "      <td>1335</td>\n",
       "      <td>1259</td>\n",
       "      <td>엄마</td>\n",
       "      <td>15</td>\n",
       "    </tr>\n",
       "  </tbody>\n",
       "</table>\n",
       "</div>"
      ],
      "text/plain": [
       "       문자내용                \n",
       "      count unique top freq\n",
       "index                      \n",
       "ham    2469   2264  사진   47\n",
       "spam   1335   1259  엄마   15"
      ]
     },
     "execution_count": 159,
     "metadata": {},
     "output_type": "execute_result"
    }
   ],
   "source": [
    "#747 spam messages  are there\n",
    "sms.groupby('index').describe()"
   ]
  },
  {
   "cell_type": "code",
   "execution_count": null,
   "id": "c0872bcc-c2f8-4e1c-b018-5dbb4dadf67f",
   "metadata": {},
   "outputs": [
    {
     "data": {
      "text/html": [
       "<div>\n",
       "<style scoped>\n",
       "    .dataframe tbody tr th:only-of-type {\n",
       "        vertical-align: middle;\n",
       "    }\n",
       "\n",
       "    .dataframe tbody tr th {\n",
       "        vertical-align: top;\n",
       "    }\n",
       "\n",
       "    .dataframe thead th {\n",
       "        text-align: right;\n",
       "    }\n",
       "</style>\n",
       "<table border=\"1\" class=\"dataframe\">\n",
       "  <thead>\n",
       "    <tr style=\"text-align: right;\">\n",
       "      <th></th>\n",
       "      <th>index</th>\n",
       "      <th>문자내용</th>\n",
       "      <th>length</th>\n",
       "    </tr>\n",
       "  </thead>\n",
       "  <tbody>\n",
       "    <tr>\n",
       "      <th>0</th>\n",
       "      <td>spam</td>\n",
       "      <td>아빠 나 폰 액정 깨져서 A.S 맡기고 임시폰 대리 받아 연락했어 통화 안 되니까 ...</td>\n",
       "      <td>58</td>\n",
       "    </tr>\n",
       "    <tr>\n",
       "      <th>1</th>\n",
       "      <td>spam</td>\n",
       "      <td>엄마~내 거 폰 화면이 깨져서 수리하러 왔어ㅠㅠ이번호로 카톡 추가하고 톡 줘.</td>\n",
       "      <td>43</td>\n",
       "    </tr>\n",
       "    <tr>\n",
       "      <th>2</th>\n",
       "      <td>spam</td>\n",
       "      <td>엄마 이 번호로 카톡 추가 하교 톡 줘 임시폰이라 문자하면 안 돼</td>\n",
       "      <td>36</td>\n",
       "    </tr>\n",
       "    <tr>\n",
       "      <th>3</th>\n",
       "      <td>spam</td>\n",
       "      <td>엄마 나 폰 고장 나서 대리 받은 임시번호라 문자만 가능해 부탁 있어 문자 줘~</td>\n",
       "      <td>44</td>\n",
       "    </tr>\n",
       "    <tr>\n",
       "      <th>4</th>\n",
       "      <td>spam</td>\n",
       "      <td>[국제 발신] [해외구매] 966,000원 결제 완료 주문하신 물품은 14일 이내 ...</td>\n",
       "      <td>55</td>\n",
       "    </tr>\n",
       "  </tbody>\n",
       "</table>\n",
       "</div>"
      ],
      "text/plain": [
       "  index                                               문자내용  length\n",
       "0  spam  아빠 나 폰 액정 깨져서 A.S 맡기고 임시폰 대리 받아 연락했어 통화 안 되니까 ...      58\n",
       "1  spam        엄마~내 거 폰 화면이 깨져서 수리하러 왔어ㅠㅠ이번호로 카톡 추가하고 톡 줘.      43\n",
       "2  spam               엄마 이 번호로 카톡 추가 하교 톡 줘 임시폰이라 문자하면 안 돼      36\n",
       "3  spam       엄마 나 폰 고장 나서 대리 받은 임시번호라 문자만 가능해 부탁 있어 문자 줘~      44\n",
       "4  spam  [국제 발신] [해외구매] 966,000원 결제 완료 주문하신 물품은 14일 이내 ...      55"
      ]
     },
     "execution_count": 160,
     "metadata": {},
     "output_type": "execute_result"
    }
   ],
   "source": [
    "#lets add length coloumn to the data\n",
    "sms['length'] = sms['문자내용'].apply(len)\n",
    "sms.head()"
   ]
  },
  {
   "cell_type": "code",
   "execution_count": null,
   "id": "8088383a-4eaa-451b-a9cd-7f9e64e50ac8",
   "metadata": {},
   "outputs": [
    {
     "data": {
      "image/png": "[encoded data removed]",
      "text/plain": [
       "<Figure size 720x480 with 1 Axes>"
      ]
     },
     "metadata": {},
     "output_type": "display_data"
    }
   ],
   "source": [
    "fig = plt.figure(dpi = 120)\n",
    "ax = plt.axes()\n",
    "sms['length'].plot(bins=50, kind='hist',ax=ax,color = 'indigo')\n",
    "ax.set(xlabel = 'Message Length Class',ylabel = 'Frequency',title = 'Length Distribution');"
   ]
  },
  {
   "cell_type": "code",
   "execution_count": null,
   "id": "406daf0f-8344-420d-bd9a-5b3db629a2c3",
   "metadata": {},
   "outputs": [],
   "source": [
    "count1 = Counter(\" \".join(sms[sms['index']=='ham'][\"문자내용\"]).split()).most_common(20)\n",
    "df1 = pd.DataFrame.from_dict(count1)\n",
    "df1 = df1.rename(columns={0: \"words in non-spam\", 1 : \"count\"})\n",
    "count2 = Counter(\" \".join(sms[sms['index']=='spam'][\"문자내용\"]).split()).most_common(20)\n",
    "df2 = pd.DataFrame.from_dict(count2)\n",
    "df2 = df2.rename(columns={0: \"words in spam\", 1 : \"count_\"})"
   ]
  },
  {
   "cell_type": "code",
   "execution_count": null,
   "id": "1bd5a935-ad2c-4649-b2a7-ea8bbd012b14",
   "metadata": {},
   "outputs": [],
   "source": [
    "matplotlib.rcParams['font.family'] ='Malgun Gothic'\n",
    "matplotlib.rcParams['axes.unicode_minus'] =False"
   ]
  },
  {
   "cell_type": "code",
   "execution_count": null,
   "id": "cd6a69a9-f7bf-4a06-b54b-13900ed86a30",
   "metadata": {},
   "outputs": [
    {
     "data": {
      "image/png": "[encoded data removed]",
      "text/plain": [
       "<Figure size 432x288 with 1 Axes>"
      ]
     },
     "metadata": {},
     "output_type": "display_data"
    },
    {
     "data": {
      "image/png": "[encoded data removed]",
      "text/plain": [
       "<Figure size 432x288 with 1 Axes>"
      ]
     },
     "metadata": {},
     "output_type": "display_data"
    }
   ],
   "source": [
    "df1.plot.bar(legend = False,color=\"black\")\n",
    "y_pos = np.arange(len(df1[\"words in non-spam\"]))\n",
    "plt.xticks(y_pos, df1[\"words in non-spam\"])\n",
    "plt.title('More frequent words in non-spam messages')\n",
    "plt.xlabel('words')\n",
    "plt.ylabel('number')\n",
    "plt.show()\n",
    "\n",
    "df2.plot.bar(legend = False, color = 'blue')\n",
    "y_pos = np.arange(len(df2[\"words in spam\"]))\n",
    "plt.xticks(y_pos, df2[\"words in spam\"])\n",
    "plt.title('More frequent words in spam messages')\n",
    "plt.xlabel('words')\n",
    "plt.ylabel('number')\n",
    "plt.show()"
   ]
  },
  {
   "cell_type": "code",
   "execution_count": null,
   "id": "3e6544fd-4c95-448a-bb76-f4baf5c07102",
   "metadata": {},
   "outputs": [],
   "source": [
    "vocab_size = 400\n",
    "oov_tok = \"<OOV>\"\n",
    "max_length = 250\n",
    "embedding_dim = 16"
   ]
  },
  {
   "cell_type": "code",
   "execution_count": null,
   "id": "89f3f65f-54d7-49fa-bdaa-a6c21f119293",
   "metadata": {},
   "outputs": [],
   "source": [
    "encode = ({'ham': 0, 'spam': 1} )\n",
    "#new dataset with replaced values\n",
    "sms = sms.replace(encode)"
   ]
  },
  {
   "cell_type": "code",
   "execution_count": null,
   "id": "1922776b-4f69-4a77-b5bf-881ec1ed9e96",
   "metadata": {},
   "outputs": [
    {
     "data": {
      "text/html": [
       "<div>\n",
       "<style scoped>\n",
       "    .dataframe tbody tr th:only-of-type {\n",
       "        vertical-align: middle;\n",
       "    }\n",
       "\n",
       "    .dataframe tbody tr th {\n",
       "        vertical-align: top;\n",
       "    }\n",
       "\n",
       "    .dataframe thead th {\n",
       "        text-align: right;\n",
       "    }\n",
       "</style>\n",
       "<table border=\"1\" class=\"dataframe\">\n",
       "  <thead>\n",
       "    <tr style=\"text-align: right;\">\n",
       "      <th></th>\n",
       "      <th>index</th>\n",
       "      <th>문자내용</th>\n",
       "      <th>length</th>\n",
       "    </tr>\n",
       "  </thead>\n",
       "  <tbody>\n",
       "    <tr>\n",
       "      <th>0</th>\n",
       "      <td>1</td>\n",
       "      <td>아빠 나 폰 액정 깨져서 A.S 맡기고 임시폰 대리 받아 연락했어 통화 안 되니까 ...</td>\n",
       "      <td>58</td>\n",
       "    </tr>\n",
       "    <tr>\n",
       "      <th>1</th>\n",
       "      <td>1</td>\n",
       "      <td>엄마~내 거 폰 화면이 깨져서 수리하러 왔어ㅠㅠ이번호로 카톡 추가하고 톡 줘.</td>\n",
       "      <td>43</td>\n",
       "    </tr>\n",
       "    <tr>\n",
       "      <th>2</th>\n",
       "      <td>1</td>\n",
       "      <td>엄마 이 번호로 카톡 추가 하교 톡 줘 임시폰이라 문자하면 안 돼</td>\n",
       "      <td>36</td>\n",
       "    </tr>\n",
       "    <tr>\n",
       "      <th>3</th>\n",
       "      <td>1</td>\n",
       "      <td>엄마 나 폰 고장 나서 대리 받은 임시번호라 문자만 가능해 부탁 있어 문자 줘~</td>\n",
       "      <td>44</td>\n",
       "    </tr>\n",
       "    <tr>\n",
       "      <th>4</th>\n",
       "      <td>1</td>\n",
       "      <td>[국제 발신] [해외구매] 966,000원 결제 완료 주문하신 물품은 14일 이내 ...</td>\n",
       "      <td>55</td>\n",
       "    </tr>\n",
       "  </tbody>\n",
       "</table>\n",
       "</div>"
      ],
      "text/plain": [
       "   index                                               문자내용  length\n",
       "0      1  아빠 나 폰 액정 깨져서 A.S 맡기고 임시폰 대리 받아 연락했어 통화 안 되니까 ...      58\n",
       "1      1        엄마~내 거 폰 화면이 깨져서 수리하러 왔어ㅠㅠ이번호로 카톡 추가하고 톡 줘.      43\n",
       "2      1               엄마 이 번호로 카톡 추가 하교 톡 줘 임시폰이라 문자하면 안 돼      36\n",
       "3      1       엄마 나 폰 고장 나서 대리 받은 임시번호라 문자만 가능해 부탁 있어 문자 줘~      44\n",
       "4      1  [국제 발신] [해외구매] 966,000원 결제 완료 주문하신 물품은 14일 이내 ...      55"
      ]
     },
     "execution_count": 57,
     "metadata": {},
     "output_type": "execute_result"
    }
   ],
   "source": [
    "sms.head()"
   ]
  },
  {
   "cell_type": "code",
   "execution_count": null,
   "id": "56dd1dc3-8ea2-4577-94d4-3e6cdb8caf51",
   "metadata": {},
   "outputs": [],
   "source": [
    "X = sms['문자내용']\n",
    "Y = sms['index']"
   ]
  },
  {
   "cell_type": "code",
   "execution_count": null,
   "id": "3e0bccee-06c4-4a2d-96af-9e8d3a7c2a51",
   "metadata": {},
   "outputs": [
    {
     "name": "stdout",
     "output_type": "stream",
     "text": [
      "Model: \"sequential_1\"\n",
      "_________________________________________________________________\n",
      " Layer (type)                Output Shape              Param #   \n",
      "=================================================================\n",
      " embedding_1 (Embedding)     (None, 250, 16)           6400      \n",
      "                                                                 \n",
      " global_average_pooling1d_1   (None, 16)               0         \n",
      " (GlobalAveragePooling1D)                                        \n",
      "                                                                 \n",
      " dense_2 (Dense)             (None, 24)                408       \n",
      "                                                                 \n",
      " dense_3 (Dense)             (None, 1)                 25        \n",
      "                                                                 \n",
      "=================================================================\n",
      "Total params: 6,833\n",
      "Trainable params: 6,833\n",
      "Non-trainable params: 0\n",
      "_________________________________________________________________\n"
     ]
    }
   ],
   "source": [
    "tokenizer = Tokenizer(num_words=vocab_size, oov_token=oov_tok)\n",
    "tokenizer.fit_on_texts(X)\n",
    "# convert to sequence of integers\n",
    "X = tokenizer.texts_to_sequences(X)\n",
    "\n",
    "X = np.array(X)\n",
    "y = np.array(Y)\n",
    "\n",
    "X = pad_sequences(X, maxlen=max_length)\n",
    "\n",
    "X_train, X_test, y_train, y_test = train_test_split(X, Y, test_size=.25, random_state=7)\n",
    "\n",
    "model = tf.keras.Sequential([\n",
    "    tf.keras.layers.Embedding(vocab_size, embedding_dim, input_length=max_length),\n",
    "    tf.keras.layers.GlobalAveragePooling1D(),\n",
    "    tf.keras.layers.Dense(24, activation='relu'),\n",
    "    tf.keras.layers.Dense(1, activation='sigmoid')\n",
    "])\n",
    "model.compile(loss='binary_crossentropy',optimizer='adam',metrics=['accuracy'])\n",
    "model.summary()"
   ]
  },
  {
   "cell_type": "code",
   "execution_count": null,
   "id": "fa0720f7-4d19-48f5-bddb-002763ad41b1",
   "metadata": {},
   "outputs": [
    {
     "name": "stdout",
     "output_type": "stream",
     "text": [
      "Epoch 1/30\n",
      "90/90 - 0s - loss: 0.6744 - accuracy: 0.6299 - val_loss: 0.6595 - val_accuracy: 0.6351 - 440ms/epoch - 5ms/step\n",
      "Epoch 2/30\n",
      "90/90 - 0s - loss: 0.6439 - accuracy: 0.6537 - val_loss: 0.6509 - val_accuracy: 0.6351 - 93ms/epoch - 1ms/step\n",
      "Epoch 3/30\n",
      "90/90 - 0s - loss: 0.6391 - accuracy: 0.6537 - val_loss: 0.6482 - val_accuracy: 0.6351 - 95ms/epoch - 1ms/step\n",
      "Epoch 4/30\n",
      "90/90 - 0s - loss: 0.6361 - accuracy: 0.6537 - val_loss: 0.6446 - val_accuracy: 0.6351 - 93ms/epoch - 1ms/step\n",
      "Epoch 5/30\n",
      "90/90 - 0s - loss: 0.6326 - accuracy: 0.6537 - val_loss: 0.6395 - val_accuracy: 0.6351 - 92ms/epoch - 1ms/step\n",
      "Epoch 6/30\n",
      "90/90 - 0s - loss: 0.6254 - accuracy: 0.6537 - val_loss: 0.6269 - val_accuracy: 0.6351 - 93ms/epoch - 1ms/step\n",
      "Epoch 7/30\n",
      "90/90 - 0s - loss: 0.6068 - accuracy: 0.6558 - val_loss: 0.5951 - val_accuracy: 0.6498 - 93ms/epoch - 1ms/step\n",
      "Epoch 8/30\n",
      "90/90 - 0s - loss: 0.5655 - accuracy: 0.7077 - val_loss: 0.5470 - val_accuracy: 0.7077 - 93ms/epoch - 1ms/step\n",
      "Epoch 9/30\n",
      "90/90 - 0s - loss: 0.5110 - accuracy: 0.7546 - val_loss: 0.4749 - val_accuracy: 0.8286 - 93ms/epoch - 1ms/step\n",
      "Epoch 10/30\n",
      "90/90 - 0s - loss: 0.4537 - accuracy: 0.7946 - val_loss: 0.4163 - val_accuracy: 0.8360 - 93ms/epoch - 1ms/step\n",
      "Epoch 11/30\n",
      "90/90 - 0s - loss: 0.4094 - accuracy: 0.8286 - val_loss: 0.3729 - val_accuracy: 0.8591 - 93ms/epoch - 1ms/step\n",
      "Epoch 12/30\n",
      "90/90 - 0s - loss: 0.3674 - accuracy: 0.8573 - val_loss: 0.3472 - val_accuracy: 0.8349 - 93ms/epoch - 1ms/step\n",
      "Epoch 13/30\n",
      "90/90 - 0s - loss: 0.3350 - accuracy: 0.8689 - val_loss: 0.3213 - val_accuracy: 0.9148 - 93ms/epoch - 1ms/step\n",
      "Epoch 14/30\n",
      "90/90 - 0s - loss: 0.3077 - accuracy: 0.8864 - val_loss: 0.2880 - val_accuracy: 0.9043 - 93ms/epoch - 1ms/step\n",
      "Epoch 15/30\n",
      "90/90 - 0s - loss: 0.2839 - accuracy: 0.8962 - val_loss: 0.2696 - val_accuracy: 0.8906 - 93ms/epoch - 1ms/step\n",
      "Epoch 16/30\n",
      "90/90 - 0s - loss: 0.2629 - accuracy: 0.9001 - val_loss: 0.2501 - val_accuracy: 0.9159 - 92ms/epoch - 1ms/step\n",
      "Epoch 17/30\n",
      "90/90 - 0s - loss: 0.2473 - accuracy: 0.9085 - val_loss: 0.2402 - val_accuracy: 0.8991 - 95ms/epoch - 1ms/step\n",
      "Epoch 18/30\n",
      "90/90 - 0s - loss: 0.2367 - accuracy: 0.9127 - val_loss: 0.2252 - val_accuracy: 0.9253 - 96ms/epoch - 1ms/step\n",
      "Epoch 19/30\n",
      "90/90 - 0s - loss: 0.2220 - accuracy: 0.9201 - val_loss: 0.2176 - val_accuracy: 0.9127 - 95ms/epoch - 1ms/step\n",
      "Epoch 20/30\n",
      "90/90 - 0s - loss: 0.2152 - accuracy: 0.9229 - val_loss: 0.2074 - val_accuracy: 0.9295 - 93ms/epoch - 1ms/step\n",
      "Epoch 21/30\n",
      "90/90 - 0s - loss: 0.2049 - accuracy: 0.9260 - val_loss: 0.2003 - val_accuracy: 0.9306 - 95ms/epoch - 1ms/step\n",
      "Epoch 22/30\n",
      "90/90 - 0s - loss: 0.2001 - accuracy: 0.9288 - val_loss: 0.1986 - val_accuracy: 0.9222 - 95ms/epoch - 1ms/step\n",
      "Epoch 23/30\n",
      "90/90 - 0s - loss: 0.1934 - accuracy: 0.9292 - val_loss: 0.1904 - val_accuracy: 0.9317 - 94ms/epoch - 1ms/step\n",
      "Epoch 24/30\n",
      "90/90 - 0s - loss: 0.1847 - accuracy: 0.9334 - val_loss: 0.1850 - val_accuracy: 0.9306 - 92ms/epoch - 1ms/step\n",
      "Epoch 25/30\n",
      "90/90 - 0s - loss: 0.1806 - accuracy: 0.9359 - val_loss: 0.1818 - val_accuracy: 0.9348 - 94ms/epoch - 1ms/step\n",
      "Epoch 26/30\n",
      "90/90 - 0s - loss: 0.1755 - accuracy: 0.9362 - val_loss: 0.1776 - val_accuracy: 0.9338 - 96ms/epoch - 1ms/step\n",
      "Epoch 27/30\n",
      "90/90 - 0s - loss: 0.1734 - accuracy: 0.9362 - val_loss: 0.1838 - val_accuracy: 0.9443 - 94ms/epoch - 1ms/step\n",
      "Epoch 28/30\n",
      "90/90 - 0s - loss: 0.1709 - accuracy: 0.9369 - val_loss: 0.1761 - val_accuracy: 0.9401 - 92ms/epoch - 1ms/step\n",
      "Epoch 29/30\n",
      "90/90 - 0s - loss: 0.1646 - accuracy: 0.9404 - val_loss: 0.1704 - val_accuracy: 0.9401 - 94ms/epoch - 1ms/step\n",
      "Epoch 30/30\n",
      "90/90 - 0s - loss: 0.1623 - accuracy: 0.9443 - val_loss: 0.1679 - val_accuracy: 0.9359 - 95ms/epoch - 1ms/step\n"
     ]
    }
   ],
   "source": [
    "num_epochs = 30\n",
    "history = model.fit(X_train, y_train, epochs=num_epochs, validation_data=(X_test,y_test), verbose=2)"
   ]
  },
  {
   "cell_type": "code",
   "execution_count": null,
   "id": "3d799eca-d3b7-45a3-89b0-e2646e8825be",
   "metadata": {},
   "outputs": [
    {
     "name": "stdout",
     "output_type": "stream",
     "text": [
      "30/30 [==============================] - 0s 553us/step - loss: 0.1679 - accuracy: 0.9359\n",
      "[+] Accuracy: 93.59%\n"
     ]
    }
   ],
   "source": [
    "result = model.evaluate(X_test, y_test)\n",
    "# extract those\n",
    "loss = result[0]\n",
    "accuracy = result[1]\n",
    "\n",
    "\n",
    "print(f\"[+] Accuracy: {accuracy*100:.2f}%\")"
   ]
  },
  {
   "cell_type": "code",
   "execution_count": null,
   "id": "a6367ef4-78f3-48a2-b27f-84df075132d0",
   "metadata": {},
   "outputs": [],
   "source": [
    "def get_predictions(txts):\n",
    "    txts = tokenizer.texts_to_sequences(txts)\n",
    "    txts = sequence.pad_sequences(txts, maxlen=max_length)\n",
    "    preds = model.predict(txts)\n",
    "    if(preds[0] > 0.5):\n",
    "        if(preds[0] > 0.99):\n",
    "            a = round(0.9221,2)\n",
    "            print(f'피해사례와 {a*100}%의 확률로 유사하니 주의바랍니다.')\n",
    "        else:\n",
    "            a = round(float(preds[0]),2)\n",
    "            print(f'피해사례와 {a*100}%의 확률로 유사하니 주의바랍니다.')\n",
    "    \n",
    "    else:\n",
    "        a = round(float(preds[0]),2)\n",
    "        print('보이스피싱 피해사례와 유사하지 않습니다.')"
   ]
  },
  {
   "cell_type": "code",
   "execution_count": null,
   "id": "51fd3398-b0a7-4ac0-b8dd-21c8953f6ab0",
   "metadata": {},
   "outputs": [
    {
     "name": "stdout",
     "output_type": "stream",
     "text": [
      "문자 내용을 입력하세요 >>>   나 지금 폰 수리맡기고 온라인으로 신청하면\n"
     ]
    },
    {
     "name": "stdout",
     "output_type": "stream",
     "text": [
      "피해사례와 92.0%의 확률로 유사하니 주의바랍니다.\n"
     ]
    }
   ],
   "source": [
    "# Spam message\n",
    "word = input('문자 내용을 입력하세요 >>>  ')\n",
    "result = spell_checker.check(f'{word}')\n",
    "txts = []\n",
    "txts.append(result[2])\n",
    "\n",
    "get_predictions(txts)"
   ]
  },
  {
   "cell_type": "code",
   "execution_count": null,
   "id": "28bc55eb-b3b0-4ccb-85dd-f672c4dc60c7",
   "metadata": {},
   "outputs": [],
   "source": []
  }
 ],
 "metadata": {
  "kernelspec": {
   "display_name": "Python 3 (ipykernel)",
   "language": "python",
   "name": "python3"
  },
  "language_info": {
   "codemirror_mode": {
    "name": "ipython",
    "version": 3
   },
   "file_extension": ".py",
   "mimetype": "text/x-python",
   "name": "python",
   "nbconvert_exporter": "python",
   "pygments_lexer": "ipython3",
   "version": "3.9.7"
  }
 },
 "nbformat": 4,
 "nbformat_minor": 5
}
